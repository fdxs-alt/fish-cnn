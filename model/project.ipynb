{
 "cells": [
  {
   "cell_type": "code",
   "execution_count": 18,
   "metadata": {
    "collapsed": true
   },
   "outputs": [
    {
     "data": {
      "text/plain": "[WindowsPath('fishes/Fish_Dataset/Fish_Dataset/Black Sea Sprat/Black Sea Sprat/00001.png'),\n WindowsPath('fishes/Fish_Dataset/Fish_Dataset/Black Sea Sprat/Black Sea Sprat/00002.png'),\n WindowsPath('fishes/Fish_Dataset/Fish_Dataset/Black Sea Sprat/Black Sea Sprat/00003.png'),\n WindowsPath('fishes/Fish_Dataset/Fish_Dataset/Black Sea Sprat/Black Sea Sprat/00004.png'),\n WindowsPath('fishes/Fish_Dataset/Fish_Dataset/Black Sea Sprat/Black Sea Sprat/00005.png'),\n WindowsPath('fishes/Fish_Dataset/Fish_Dataset/Black Sea Sprat/Black Sea Sprat/00006.png'),\n WindowsPath('fishes/Fish_Dataset/Fish_Dataset/Black Sea Sprat/Black Sea Sprat/00007.png'),\n WindowsPath('fishes/Fish_Dataset/Fish_Dataset/Black Sea Sprat/Black Sea Sprat/00008.png'),\n WindowsPath('fishes/Fish_Dataset/Fish_Dataset/Black Sea Sprat/Black Sea Sprat/00009.png'),\n WindowsPath('fishes/Fish_Dataset/Fish_Dataset/Black Sea Sprat/Black Sea Sprat/00010.png')]"
     },
     "execution_count": 18,
     "metadata": {},
     "output_type": "execute_result"
    }
   ],
   "source": [
    "## Getting the list of files\n",
    "from pathlib import Path\n",
    "fish_dir = Path('./fishes/Fish_Dataset/Fish_Dataset')\n",
    "file_path = list(fish_dir.glob(r\"**/*.png\"))\n",
    "\n",
    "file_path[:10]"
   ]
  },
  {
   "cell_type": "code",
   "execution_count": 19,
   "outputs": [
    {
     "data": {
      "text/plain": "array(['Black Sea Sprat', 'Black Sea Sprat GT', 'Gilt-Head Bream',\n       'Gilt-Head Bream GT', 'Hourse Mackerel', 'Hourse Mackerel GT',\n       'Red Mullet', 'Red Mullet GT', 'Red Sea Bream', 'Red Sea Bream GT',\n       'Sea Bass', 'Sea Bass GT', 'Shrimp', 'Shrimp GT',\n       'Striped Red Mullet', 'Striped Red Mullet GT', 'Trout', 'Trout GT'],\n      dtype=object)"
     },
     "execution_count": 19,
     "metadata": {},
     "output_type": "execute_result"
    }
   ],
   "source": [
    "## Getting the labels of the images\n",
    "from os import path\n",
    "import pandas as pd\n",
    "\n",
    "labels = list(map(lambda f: path.split(path.split(f)[0])[1], file_path))\n",
    "\n",
    "labels = pd.Series(labels)\n",
    "labels.unique()"
   ],
   "metadata": {
    "collapsed": false,
    "pycharm": {
     "name": "#%%\n"
    }
   }
  },
  {
   "cell_type": "code",
   "execution_count": 20,
   "outputs": [
    {
     "data": {
      "text/plain": "0    fishes\\Fish_Dataset\\Fish_Dataset\\Black Sea Spr...\n1    fishes\\Fish_Dataset\\Fish_Dataset\\Black Sea Spr...\n2    fishes\\Fish_Dataset\\Fish_Dataset\\Black Sea Spr...\n3    fishes\\Fish_Dataset\\Fish_Dataset\\Black Sea Spr...\n4    fishes\\Fish_Dataset\\Fish_Dataset\\Black Sea Spr...\ndtype: object"
     },
     "execution_count": 20,
     "metadata": {},
     "output_type": "execute_result"
    }
   ],
   "source": [
    "## Images series\n",
    "images = pd.Series(file_path).astype(str)\n",
    "images.head()"
   ],
   "metadata": {
    "collapsed": false,
    "pycharm": {
     "name": "#%%\n"
    }
   }
  },
  {
   "cell_type": "code",
   "execution_count": 21,
   "outputs": [
    {
     "data": {
      "text/plain": "(9000, 2)"
     },
     "execution_count": 21,
     "metadata": {},
     "output_type": "execute_result"
    }
   ],
   "source": [
    "## Creating dataframe of fishes with their labels\n",
    "fishes = pd.concat([images, labels], axis=1)\n",
    "fishes.columns = [\"image\", \"label\"]\n",
    "fishes = fishes[fishes[\"label\"].apply(lambda x: x[-2:] != \"GT\")].reset_index(drop=True)\n",
    "fishes.shape"
   ],
   "metadata": {
    "collapsed": false,
    "pycharm": {
     "name": "#%%\n"
    }
   }
  },
  {
   "cell_type": "code",
   "execution_count": 22,
   "outputs": [
    {
     "data": {
      "text/plain": "                                               image            label\n0  fishes\\Fish_Dataset\\Fish_Dataset\\Black Sea Spr...  Black Sea Sprat\n1  fishes\\Fish_Dataset\\Fish_Dataset\\Black Sea Spr...  Black Sea Sprat\n2  fishes\\Fish_Dataset\\Fish_Dataset\\Black Sea Spr...  Black Sea Sprat\n3  fishes\\Fish_Dataset\\Fish_Dataset\\Black Sea Spr...  Black Sea Sprat\n4  fishes\\Fish_Dataset\\Fish_Dataset\\Black Sea Spr...  Black Sea Sprat",
      "text/html": "<div>\n<style scoped>\n    .dataframe tbody tr th:only-of-type {\n        vertical-align: middle;\n    }\n\n    .dataframe tbody tr th {\n        vertical-align: top;\n    }\n\n    .dataframe thead th {\n        text-align: right;\n    }\n</style>\n<table border=\"1\" class=\"dataframe\">\n  <thead>\n    <tr style=\"text-align: right;\">\n      <th></th>\n      <th>image</th>\n      <th>label</th>\n    </tr>\n  </thead>\n  <tbody>\n    <tr>\n      <th>0</th>\n      <td>fishes\\Fish_Dataset\\Fish_Dataset\\Black Sea Spr...</td>\n      <td>Black Sea Sprat</td>\n    </tr>\n    <tr>\n      <th>1</th>\n      <td>fishes\\Fish_Dataset\\Fish_Dataset\\Black Sea Spr...</td>\n      <td>Black Sea Sprat</td>\n    </tr>\n    <tr>\n      <th>2</th>\n      <td>fishes\\Fish_Dataset\\Fish_Dataset\\Black Sea Spr...</td>\n      <td>Black Sea Sprat</td>\n    </tr>\n    <tr>\n      <th>3</th>\n      <td>fishes\\Fish_Dataset\\Fish_Dataset\\Black Sea Spr...</td>\n      <td>Black Sea Sprat</td>\n    </tr>\n    <tr>\n      <th>4</th>\n      <td>fishes\\Fish_Dataset\\Fish_Dataset\\Black Sea Spr...</td>\n      <td>Black Sea Sprat</td>\n    </tr>\n  </tbody>\n</table>\n</div>"
     },
     "execution_count": 22,
     "metadata": {},
     "output_type": "execute_result"
    }
   ],
   "source": [
    "fishes.head()"
   ],
   "metadata": {
    "collapsed": false,
    "pycharm": {
     "name": "#%%\n"
    }
   }
  },
  {
   "cell_type": "code",
   "execution_count": 23,
   "outputs": [
    {
     "name": "stdout",
     "output_type": "stream",
     "text": [
      "(5040, 2)\n",
      "(2700, 2)\n",
      "(1260, 2)\n"
     ]
    }
   ],
   "source": [
    "## Splitting data\n",
    "from sklearn.model_selection import train_test_split\n",
    "\n",
    "train_set, test_data = train_test_split(fishes, test_size=0.3, random_state=42)\n",
    "train_data, val_data = train_test_split(train_set, test_size=0.2, random_state=42)\n",
    "\n",
    "print(train_data.shape)\n",
    "print(test_data.shape)\n",
    "print(val_data.shape)"
   ],
   "metadata": {
    "collapsed": false,
    "pycharm": {
     "name": "#%%\n"
    }
   }
  },
  {
   "cell_type": "code",
   "execution_count": 24,
   "outputs": [
    {
     "name": "stdout",
     "output_type": "stream",
     "text": [
      "Found 5040 validated image filenames belonging to 9 classes.\n",
      "Found 1260 validated image filenames belonging to 9 classes.\n"
     ]
    }
   ],
   "source": [
    "## Image Generator\n",
    "from tensorflow.keras.preprocessing.image import ImageDataGenerator\n",
    "\n",
    "img_size = (224, 224)\n",
    "input_shape = (224, 224, 3)\n",
    "\n",
    "img_gen = ImageDataGenerator(rotation_range=15, rescale=1. / 255, horizontal_flip=True)\n",
    "\n",
    "train_gen = img_gen.flow_from_dataframe(train_data,\n",
    "                                        x_col=\"image\",\n",
    "                                        y_col=\"label\",\n",
    "                                        target_size=img_size,\n",
    "                                        class_mode=\"categorical\",\n",
    "                                        batch_size=32)\n",
    "\n",
    "validation_gen = img_gen.flow_from_dataframe(val_data,\n",
    "                                             x_col=\"image\",\n",
    "                                             y_col=\"label\",\n",
    "                                             target_size=img_size,\n",
    "                                             class_mode=\"categorical\",\n",
    "                                             batch_size=32,\n",
    "                                             shuffle=False)"
   ],
   "metadata": {
    "collapsed": false,
    "pycharm": {
     "name": "#%%\n"
    }
   }
  },
  {
   "cell_type": "code",
   "execution_count": 25,
   "outputs": [
    {
     "name": "stdout",
     "output_type": "stream",
     "text": [
      "Model: \"sequential_1\"\n",
      "_________________________________________________________________\n",
      "Layer (type)                 Output Shape              Param #   \n",
      "=================================================================\n",
      "conv2d_1 (Conv2D)            (None, 222, 222, 32)      896       \n",
      "_________________________________________________________________\n",
      "max_pooling2d_1 (MaxPooling2 (None, 111, 111, 32)      0         \n",
      "_________________________________________________________________\n",
      "flatten_1 (Flatten)          (None, 394272)            0         \n",
      "_________________________________________________________________\n",
      "dense_3 (Dense)              (None, 128)               50466944  \n",
      "_________________________________________________________________\n",
      "dropout_2 (Dropout)          (None, 128)               0         \n",
      "_________________________________________________________________\n",
      "dense_4 (Dense)              (None, 128)               16512     \n",
      "_________________________________________________________________\n",
      "dropout_3 (Dropout)          (None, 128)               0         \n",
      "_________________________________________________________________\n",
      "dense_5 (Dense)              (None, 9)                 1161      \n",
      "=================================================================\n",
      "Total params: 50,485,513\n",
      "Trainable params: 50,485,513\n",
      "Non-trainable params: 0\n",
      "_________________________________________________________________\n"
     ]
    }
   ],
   "source": [
    "from tensorflow.keras.models import Sequential\n",
    "from tensorflow.keras.layers import Flatten, Dense, Dropout, Conv2D, MaxPooling2D\n",
    "\n",
    "model = Sequential([Conv2D(32, (3, 3), activation='relu', strides=(1, 1), input_shape=input_shape),\n",
    "                    MaxPooling2D(pool_size=(2, 2)), Flatten(),\n",
    "                    Dense(128, activation='relu'), Dropout(0.2),\n",
    "                    Dense(128, activation='relu'), Dropout(0.2), Dense(9, activation=\"softmax\")])\n",
    "\n",
    "model.summary()"
   ],
   "metadata": {
    "collapsed": false,
    "pycharm": {
     "name": "#%%\n"
    }
   }
  },
  {
   "cell_type": "code",
   "execution_count": 26,
   "outputs": [],
   "source": [
    "model.compile(optimizer=\"adam\", loss=\"categorical_crossentropy\", metrics=[\"accuracy\"])"
   ],
   "metadata": {
    "collapsed": false,
    "pycharm": {
     "name": "#%%\n"
    }
   }
  },
  {
   "cell_type": "code",
   "execution_count": 27,
   "outputs": [],
   "source": [
    "from tensorflow.keras.callbacks import EarlyStopping, ReduceLROnPlateau, CSVLogger\n",
    "\n",
    "rate_reduction = ReduceLROnPlateau(monitor=\"val_accuracy\", patience=5, verbose=1, factor=0.2, min_lr=0.0001)\n",
    "early_stop = EarlyStopping(patience=10)\n",
    "csv_logger = CSVLogger(\"model_history_log.csv\", append=True)"
   ],
   "metadata": {
    "collapsed": false,
    "pycharm": {
     "name": "#%%\n"
    }
   }
  },
  {
   "cell_type": "code",
   "execution_count": 28,
   "outputs": [
    {
     "name": "stdout",
     "output_type": "stream",
     "text": [
      "Epoch 1/20\n",
      "158/158 [==============================] - 116s 734ms/step - loss: 2.6657 - accuracy: 0.2010 - val_loss: 1.6052 - val_accuracy: 0.4175\n",
      "Epoch 2/20\n",
      "158/158 [==============================] - 113s 717ms/step - loss: 1.5995 - accuracy: 0.3718 - val_loss: 1.2269 - val_accuracy: 0.5333\n",
      "Epoch 3/20\n",
      "158/158 [==============================] - 113s 715ms/step - loss: 1.3701 - accuracy: 0.4534 - val_loss: 1.1685 - val_accuracy: 0.5651\n",
      "Epoch 4/20\n",
      "158/158 [==============================] - 113s 716ms/step - loss: 1.1326 - accuracy: 0.5633 - val_loss: 0.7678 - val_accuracy: 0.7675\n",
      "Epoch 5/20\n",
      "158/158 [==============================] - 113s 716ms/step - loss: 0.9830 - accuracy: 0.6256 - val_loss: 0.5727 - val_accuracy: 0.8317\n",
      "Epoch 6/20\n",
      "158/158 [==============================] - 113s 717ms/step - loss: 0.8537 - accuracy: 0.6782 - val_loss: 0.6557 - val_accuracy: 0.7698\n",
      "Epoch 7/20\n",
      "158/158 [==============================] - 113s 716ms/step - loss: 0.8171 - accuracy: 0.6887 - val_loss: 0.5076 - val_accuracy: 0.8333\n",
      "Epoch 8/20\n",
      "158/158 [==============================] - 113s 716ms/step - loss: 0.6733 - accuracy: 0.7421 - val_loss: 0.3451 - val_accuracy: 0.9008\n",
      "Epoch 9/20\n",
      "158/158 [==============================] - 114s 721ms/step - loss: 0.6394 - accuracy: 0.7569 - val_loss: 0.3373 - val_accuracy: 0.8984\n",
      "Epoch 10/20\n",
      "158/158 [==============================] - 113s 716ms/step - loss: 0.5768 - accuracy: 0.7851 - val_loss: 0.4049 - val_accuracy: 0.8714\n",
      "Epoch 11/20\n",
      "158/158 [==============================] - 113s 713ms/step - loss: 0.5599 - accuracy: 0.7954 - val_loss: 0.3148 - val_accuracy: 0.9095\n",
      "Epoch 12/20\n",
      "158/158 [==============================] - 113s 712ms/step - loss: 0.5239 - accuracy: 0.8171 - val_loss: 0.2721 - val_accuracy: 0.9151\n",
      "Epoch 13/20\n",
      "158/158 [==============================] - 112s 710ms/step - loss: 0.5046 - accuracy: 0.8252 - val_loss: 0.2550 - val_accuracy: 0.9151\n",
      "Epoch 14/20\n",
      "158/158 [==============================] - 113s 713ms/step - loss: 0.4746 - accuracy: 0.8333 - val_loss: 0.2714 - val_accuracy: 0.9063\n",
      "Epoch 15/20\n",
      "158/158 [==============================] - 112s 708ms/step - loss: 0.4499 - accuracy: 0.8448 - val_loss: 0.1834 - val_accuracy: 0.9444\n",
      "Epoch 16/20\n",
      "158/158 [==============================] - 112s 709ms/step - loss: 0.4332 - accuracy: 0.8510 - val_loss: 0.2266 - val_accuracy: 0.9333\n",
      "Epoch 17/20\n",
      "158/158 [==============================] - 112s 708ms/step - loss: 0.4178 - accuracy: 0.8530 - val_loss: 0.2278 - val_accuracy: 0.9317\n",
      "Epoch 18/20\n",
      "158/158 [==============================] - 113s 713ms/step - loss: 0.4198 - accuracy: 0.8486 - val_loss: 0.2113 - val_accuracy: 0.9357\n",
      "Epoch 19/20\n",
      "158/158 [==============================] - 112s 709ms/step - loss: 0.3961 - accuracy: 0.8623 - val_loss: 0.2193 - val_accuracy: 0.9365\n",
      "Epoch 20/20\n",
      "158/158 [==============================] - ETA: 0s - loss: 0.3778 - accuracy: 0.8625\n",
      "Epoch 00020: ReduceLROnPlateau reducing learning rate to 0.00020000000949949026.\n",
      "158/158 [==============================] - 112s 711ms/step - loss: 0.3778 - accuracy: 0.8625 - val_loss: 0.2631 - val_accuracy: 0.9063\n"
     ]
    }
   ],
   "source": [
    "history = model.fit(train_gen, validation_data=validation_gen, epochs=20, verbose=1,\n",
    "                    callbacks=[early_stop, rate_reduction, csv_logger])"
   ],
   "metadata": {
    "collapsed": false,
    "pycharm": {
     "name": "#%%\n"
    }
   }
  },
  {
   "cell_type": "code",
   "execution_count": 29,
   "outputs": [
    {
     "name": "stdout",
     "output_type": "stream",
     "text": [
      "Found 2700 validated image filenames belonging to 9 classes.\n"
     ]
    }
   ],
   "source": [
    "import numpy as np\n",
    "\n",
    "test_gen = img_gen.flow_from_dataframe(test_data,\n",
    "                                       x_col=\"image\",\n",
    "                                       y_col=\"label\",\n",
    "                                       target_size=img_size,\n",
    "                                       class_mode=\"categorical\",\n",
    "                                       batch_size=32,\n",
    "                                       shuffle=False)\n",
    "\n",
    "prediction = np.argmax(model.predict(test_gen), axis=1)\n",
    "train_labels = train_gen.class_indices\n",
    "train_labels = dict((v, k) for k, v in train_labels.items())\n",
    "predictions = [train_labels[k] for k in prediction]"
   ],
   "metadata": {
    "collapsed": false,
    "pycharm": {
     "name": "#%%\n"
    }
   }
  },
  {
   "cell_type": "code",
   "execution_count": 30,
   "outputs": [
    {
     "name": "stdout",
     "output_type": "stream",
     "text": [
      "                    precision    recall  f1-score   support\n",
      "\n",
      "   Black Sea Sprat       0.93      0.85      0.89       300\n",
      "   Gilt-Head Bream       0.86      0.82      0.84       326\n",
      "   Hourse Mackerel       0.96      0.98      0.97       287\n",
      "        Red Mullet       0.98      1.00      0.99       288\n",
      "     Red Sea Bream       0.86      0.92      0.89       296\n",
      "          Sea Bass       0.95      0.70      0.80       298\n",
      "            Shrimp       0.89      1.00      0.94       314\n",
      "Striped Red Mullet       0.77      0.85      0.81       297\n",
      "             Trout       0.92      0.98      0.95       294\n",
      "\n",
      "          accuracy                           0.90      2700\n",
      "         macro avg       0.90      0.90      0.90      2700\n",
      "      weighted avg       0.90      0.90      0.90      2700\n",
      "\n",
      "Saved successfully\n"
     ]
    }
   ],
   "source": [
    "from sklearn.metrics import classification_report\n",
    "y_test = test_data.label\n",
    "print(classification_report(y_test, predictions))\n",
    "\n",
    "model.save(\"fishes_model.h5\", overwrite=True)\n",
    "print(\"Saved successfully\")"
   ],
   "metadata": {
    "collapsed": false,
    "pycharm": {
     "name": "#%%\n"
    }
   }
  },
  {
   "cell_type": "code",
   "execution_count": 31,
   "outputs": [
    {
     "name": "stdout",
     "output_type": "stream",
     "text": [
      "Saved successfully\n"
     ]
    }
   ],
   "source": [
    "from tensorflowjs import converters\n",
    "converters.save_keras_model(model, \"tf-js-model\")\n",
    "print(\"Saved successfully\")"
   ],
   "metadata": {
    "collapsed": false,
    "pycharm": {
     "name": "#%%\n"
    }
   }
  }
 ],
 "metadata": {
  "kernelspec": {
   "display_name": "Python 3",
   "language": "python",
   "name": "python3"
  },
  "language_info": {
   "codemirror_mode": {
    "name": "ipython",
    "version": 2
   },
   "file_extension": ".py",
   "mimetype": "text/x-python",
   "name": "python",
   "nbconvert_exporter": "python",
   "pygments_lexer": "ipython2",
   "version": "2.7.6"
  }
 },
 "nbformat": 4,
 "nbformat_minor": 0
}