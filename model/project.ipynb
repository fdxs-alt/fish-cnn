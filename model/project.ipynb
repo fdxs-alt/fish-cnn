{
 "cells": [
  {
   "cell_type": "code",
   "execution_count": 1,
   "metadata": {
    "collapsed": true
   },
   "outputs": [
    {
     "data": {
      "text/plain": "[WindowsPath('fishes/Fish_Dataset/Fish_Dataset/Black Sea Sprat/Black Sea Sprat/00001.png'),\n WindowsPath('fishes/Fish_Dataset/Fish_Dataset/Black Sea Sprat/Black Sea Sprat/00002.png'),\n WindowsPath('fishes/Fish_Dataset/Fish_Dataset/Black Sea Sprat/Black Sea Sprat/00003.png'),\n WindowsPath('fishes/Fish_Dataset/Fish_Dataset/Black Sea Sprat/Black Sea Sprat/00004.png'),\n WindowsPath('fishes/Fish_Dataset/Fish_Dataset/Black Sea Sprat/Black Sea Sprat/00005.png'),\n WindowsPath('fishes/Fish_Dataset/Fish_Dataset/Black Sea Sprat/Black Sea Sprat/00006.png'),\n WindowsPath('fishes/Fish_Dataset/Fish_Dataset/Black Sea Sprat/Black Sea Sprat/00007.png'),\n WindowsPath('fishes/Fish_Dataset/Fish_Dataset/Black Sea Sprat/Black Sea Sprat/00008.png'),\n WindowsPath('fishes/Fish_Dataset/Fish_Dataset/Black Sea Sprat/Black Sea Sprat/00009.png'),\n WindowsPath('fishes/Fish_Dataset/Fish_Dataset/Black Sea Sprat/Black Sea Sprat/00010.png')]"
     },
     "execution_count": 1,
     "metadata": {},
     "output_type": "execute_result"
    }
   ],
   "source": [
    "## Getting the list of files\n",
    "from pathlib import Path\n",
    "fish_dir = Path('./fishes/Fish_Dataset/Fish_Dataset')\n",
    "file_path = list(fish_dir.glob(r\"**/*.png\"))\n",
    "\n",
    "file_path[:10]"
   ]
  },
  {
   "cell_type": "code",
   "execution_count": 2,
   "outputs": [
    {
     "data": {
      "text/plain": "array(['Black Sea Sprat', 'Black Sea Sprat GT', 'Gilt-Head Bream',\n       'Gilt-Head Bream GT', 'Hourse Mackerel', 'Hourse Mackerel GT',\n       'Red Mullet', 'Red Mullet GT', 'Red Sea Bream', 'Red Sea Bream GT',\n       'Sea Bass', 'Sea Bass GT', 'Shrimp', 'Shrimp GT',\n       'Striped Red Mullet', 'Striped Red Mullet GT', 'Trout', 'Trout GT'],\n      dtype=object)"
     },
     "execution_count": 2,
     "metadata": {},
     "output_type": "execute_result"
    }
   ],
   "source": [
    "## Getting the labels of the images\n",
    "from os import path\n",
    "import pandas as pd\n",
    "\n",
    "labels = list(map(lambda f: path.split(path.split(f)[0])[1], file_path))\n",
    "\n",
    "labels = pd.Series(labels)\n",
    "labels.unique()"
   ],
   "metadata": {
    "collapsed": false,
    "pycharm": {
     "name": "#%%\n"
    }
   }
  },
  {
   "cell_type": "code",
   "execution_count": 3,
   "outputs": [
    {
     "data": {
      "text/plain": "0    fishes\\Fish_Dataset\\Fish_Dataset\\Black Sea Spr...\n1    fishes\\Fish_Dataset\\Fish_Dataset\\Black Sea Spr...\n2    fishes\\Fish_Dataset\\Fish_Dataset\\Black Sea Spr...\n3    fishes\\Fish_Dataset\\Fish_Dataset\\Black Sea Spr...\n4    fishes\\Fish_Dataset\\Fish_Dataset\\Black Sea Spr...\ndtype: object"
     },
     "execution_count": 3,
     "metadata": {},
     "output_type": "execute_result"
    }
   ],
   "source": [
    "## Images series\n",
    "images = pd.Series(file_path).astype(str)\n",
    "images.head()"
   ],
   "metadata": {
    "collapsed": false,
    "pycharm": {
     "name": "#%%\n"
    }
   }
  },
  {
   "cell_type": "code",
   "execution_count": 4,
   "outputs": [
    {
     "data": {
      "text/plain": "(9000, 2)"
     },
     "execution_count": 4,
     "metadata": {},
     "output_type": "execute_result"
    }
   ],
   "source": [
    "## Creating dataframe of fishes with their labels\n",
    "fishes = pd.concat([images, labels], axis=1)\n",
    "fishes.columns = [\"image\", \"label\"]\n",
    "fishes = fishes[fishes[\"label\"].apply(lambda x: x[-2:] != \"GT\")].reset_index(drop=True)\n",
    "fishes.shape"
   ],
   "metadata": {
    "collapsed": false,
    "pycharm": {
     "name": "#%%\n"
    }
   }
  },
  {
   "cell_type": "code",
   "execution_count": 5,
   "outputs": [
    {
     "data": {
      "text/plain": "                                               image            label\n0  fishes\\Fish_Dataset\\Fish_Dataset\\Black Sea Spr...  Black Sea Sprat\n1  fishes\\Fish_Dataset\\Fish_Dataset\\Black Sea Spr...  Black Sea Sprat\n2  fishes\\Fish_Dataset\\Fish_Dataset\\Black Sea Spr...  Black Sea Sprat\n3  fishes\\Fish_Dataset\\Fish_Dataset\\Black Sea Spr...  Black Sea Sprat\n4  fishes\\Fish_Dataset\\Fish_Dataset\\Black Sea Spr...  Black Sea Sprat",
      "text/html": "<div>\n<style scoped>\n    .dataframe tbody tr th:only-of-type {\n        vertical-align: middle;\n    }\n\n    .dataframe tbody tr th {\n        vertical-align: top;\n    }\n\n    .dataframe thead th {\n        text-align: right;\n    }\n</style>\n<table border=\"1\" class=\"dataframe\">\n  <thead>\n    <tr style=\"text-align: right;\">\n      <th></th>\n      <th>image</th>\n      <th>label</th>\n    </tr>\n  </thead>\n  <tbody>\n    <tr>\n      <th>0</th>\n      <td>fishes\\Fish_Dataset\\Fish_Dataset\\Black Sea Spr...</td>\n      <td>Black Sea Sprat</td>\n    </tr>\n    <tr>\n      <th>1</th>\n      <td>fishes\\Fish_Dataset\\Fish_Dataset\\Black Sea Spr...</td>\n      <td>Black Sea Sprat</td>\n    </tr>\n    <tr>\n      <th>2</th>\n      <td>fishes\\Fish_Dataset\\Fish_Dataset\\Black Sea Spr...</td>\n      <td>Black Sea Sprat</td>\n    </tr>\n    <tr>\n      <th>3</th>\n      <td>fishes\\Fish_Dataset\\Fish_Dataset\\Black Sea Spr...</td>\n      <td>Black Sea Sprat</td>\n    </tr>\n    <tr>\n      <th>4</th>\n      <td>fishes\\Fish_Dataset\\Fish_Dataset\\Black Sea Spr...</td>\n      <td>Black Sea Sprat</td>\n    </tr>\n  </tbody>\n</table>\n</div>"
     },
     "execution_count": 5,
     "metadata": {},
     "output_type": "execute_result"
    }
   ],
   "source": [
    "fishes.head()"
   ],
   "metadata": {
    "collapsed": false,
    "pycharm": {
     "name": "#%%\n"
    }
   }
  },
  {
   "cell_type": "code",
   "execution_count": 6,
   "outputs": [
    {
     "name": "stdout",
     "output_type": "stream",
     "text": [
      "(5040, 2)\n",
      "(2700, 2)\n",
      "(1260, 2)\n"
     ]
    }
   ],
   "source": [
    "## Splitting data\n",
    "from sklearn.model_selection import train_test_split\n",
    "\n",
    "train_set, test_data = train_test_split(fishes, test_size=0.3, random_state=42)\n",
    "train_data, val_data = train_test_split(train_set, test_size=0.2, random_state=42)\n",
    "\n",
    "print(train_data.shape)\n",
    "print(test_data.shape)\n",
    "print(val_data.shape)"
   ],
   "metadata": {
    "collapsed": false,
    "pycharm": {
     "name": "#%%\n"
    }
   }
  },
  {
   "cell_type": "code",
   "execution_count": 7,
   "outputs": [
    {
     "name": "stdout",
     "output_type": "stream",
     "text": [
      "Found 5040 validated image filenames belonging to 9 classes.\n",
      "Found 1260 validated image filenames belonging to 9 classes.\n"
     ]
    }
   ],
   "source": [
    "## Image Generator\n",
    "from tensorflow.keras.preprocessing.image import ImageDataGenerator\n",
    "\n",
    "img_size = (224, 224)\n",
    "input_shape = (224, 224, 3)\n",
    "\n",
    "img_gen = ImageDataGenerator(rotation_range=15, rescale=1. / 255, horizontal_flip=True)\n",
    "\n",
    "train_gen = img_gen.flow_from_dataframe(train_data,\n",
    "                                        x_col=\"image\",\n",
    "                                        y_col=\"label\",\n",
    "                                        target_size=img_size,\n",
    "                                        class_mode=\"categorical\",\n",
    "                                        batch_size=32)\n",
    "\n",
    "validation_gen = img_gen.flow_from_dataframe(val_data,\n",
    "                                             x_col=\"image\",\n",
    "                                             y_col=\"label\",\n",
    "                                             target_size=img_size,\n",
    "                                             class_mode=\"categorical\",\n",
    "                                             batch_size=32,\n",
    "                                             shuffle=False)"
   ],
   "metadata": {
    "collapsed": false,
    "pycharm": {
     "name": "#%%\n"
    }
   }
  },
  {
   "cell_type": "code",
   "execution_count": 8,
   "outputs": [
    {
     "name": "stdout",
     "output_type": "stream",
     "text": [
      "Model: \"sequential\"\n",
      "_________________________________________________________________\n",
      " Layer (type)                Output Shape              Param #   \n",
      "=================================================================\n",
      " conv2d (Conv2D)             (None, 222, 222, 32)      896       \n",
      "                                                                 \n",
      " max_pooling2d (MaxPooling2D  (None, 111, 111, 32)     0         \n",
      " )                                                               \n",
      "                                                                 \n",
      " flatten (Flatten)           (None, 394272)            0         \n",
      "                                                                 \n",
      " dense (Dense)               (None, 128)               50466944  \n",
      "                                                                 \n",
      " dropout (Dropout)           (None, 128)               0         \n",
      "                                                                 \n",
      " dense_1 (Dense)             (None, 128)               16512     \n",
      "                                                                 \n",
      " dropout_1 (Dropout)         (None, 128)               0         \n",
      "                                                                 \n",
      " dense_2 (Dense)             (None, 9)                 1161      \n",
      "                                                                 \n",
      "=================================================================\n",
      "Total params: 50,485,513\n",
      "Trainable params: 50,485,513\n",
      "Non-trainable params: 0\n",
      "_________________________________________________________________\n"
     ]
    }
   ],
   "source": [
    "from tensorflow.keras.models import Sequential\n",
    "from tensorflow.keras.layers import Flatten, Dense, Dropout, Conv2D, MaxPooling2D\n",
    "\n",
    "model = Sequential([Conv2D(32, (3, 3), activation='relu', strides=(1, 1), input_shape=input_shape),\n",
    "                    MaxPooling2D(pool_size=(2, 2)), Flatten(),\n",
    "                    Dense(128, activation='relu'), Dropout(0.2),\n",
    "                    Dense(128, activation='relu'), Dropout(0.2), Dense(9, activation=\"softmax\")])\n",
    "\n",
    "model.summary()"
   ],
   "metadata": {
    "collapsed": false,
    "pycharm": {
     "name": "#%%\n"
    }
   }
  },
  {
   "cell_type": "code",
   "execution_count": 9,
   "outputs": [],
   "source": [
    "model.compile(optimizer=\"adam\", loss=\"categorical_crossentropy\", metrics=[\"accuracy\"])"
   ],
   "metadata": {
    "collapsed": false,
    "pycharm": {
     "name": "#%%\n"
    }
   }
  },
  {
   "cell_type": "code",
   "execution_count": 10,
   "outputs": [],
   "source": [
    "from tensorflow.keras.callbacks import EarlyStopping, ReduceLROnPlateau, CSVLogger\n",
    "\n",
    "rate_reduction = ReduceLROnPlateau(monitor=\"val_accuracy\", patience=5, verbose=1, factor=0.2, min_lr=0.0001)\n",
    "early_stop = EarlyStopping(patience=10)\n",
    "csv_logger = CSVLogger(\"model_history_log.csv\", append=True)"
   ],
   "metadata": {
    "collapsed": false,
    "pycharm": {
     "name": "#%%\n"
    }
   }
  },
  {
   "cell_type": "code",
   "execution_count": 11,
   "outputs": [
    {
     "name": "stdout",
     "output_type": "stream",
     "text": [
      "Epoch 1/20\n",
      "158/158 [==============================] - 149s 940ms/step - loss: 3.0865 - accuracy: 0.1909 - val_loss: 1.8375 - val_accuracy: 0.3444 - lr: 0.0010\n",
      "Epoch 2/20\n",
      "158/158 [==============================] - 111s 702ms/step - loss: 1.6520 - accuracy: 0.3829 - val_loss: 1.1598 - val_accuracy: 0.6246 - lr: 0.0010\n",
      "Epoch 3/20\n",
      "158/158 [==============================] - 110s 693ms/step - loss: 1.2538 - accuracy: 0.5296 - val_loss: 0.8717 - val_accuracy: 0.6937 - lr: 0.0010\n",
      "Epoch 4/20\n",
      "158/158 [==============================] - 109s 692ms/step - loss: 0.9737 - accuracy: 0.6464 - val_loss: 0.5396 - val_accuracy: 0.8325 - lr: 0.0010\n",
      "Epoch 5/20\n",
      "158/158 [==============================] - 109s 689ms/step - loss: 0.7999 - accuracy: 0.7149 - val_loss: 0.5007 - val_accuracy: 0.8627 - lr: 0.0010\n",
      "Epoch 6/20\n",
      "158/158 [==============================] - 109s 690ms/step - loss: 0.7228 - accuracy: 0.7361 - val_loss: 0.4472 - val_accuracy: 0.8516 - lr: 0.0010\n",
      "Epoch 7/20\n",
      "158/158 [==============================] - 109s 689ms/step - loss: 0.6099 - accuracy: 0.7736 - val_loss: 0.3385 - val_accuracy: 0.8921 - lr: 0.0010\n",
      "Epoch 8/20\n",
      "158/158 [==============================] - 108s 687ms/step - loss: 0.5635 - accuracy: 0.7978 - val_loss: 0.3621 - val_accuracy: 0.8865 - lr: 0.0010\n",
      "Epoch 9/20\n",
      "158/158 [==============================] - 109s 692ms/step - loss: 0.5123 - accuracy: 0.8157 - val_loss: 0.2622 - val_accuracy: 0.9119 - lr: 0.0010\n",
      "Epoch 10/20\n",
      "158/158 [==============================] - 108s 686ms/step - loss: 0.4910 - accuracy: 0.8194 - val_loss: 0.2314 - val_accuracy: 0.9190 - lr: 0.0010\n",
      "Epoch 11/20\n",
      "158/158 [==============================] - 109s 688ms/step - loss: 0.4635 - accuracy: 0.8325 - val_loss: 0.2275 - val_accuracy: 0.9397 - lr: 0.0010\n",
      "Epoch 12/20\n",
      "158/158 [==============================] - 109s 687ms/step - loss: 0.4170 - accuracy: 0.8498 - val_loss: 0.2337 - val_accuracy: 0.9206 - lr: 0.0010\n",
      "Epoch 13/20\n",
      "158/158 [==============================] - 109s 688ms/step - loss: 0.4178 - accuracy: 0.8510 - val_loss: 0.2459 - val_accuracy: 0.9175 - lr: 0.0010\n",
      "Epoch 14/20\n",
      "158/158 [==============================] - 109s 689ms/step - loss: 0.3931 - accuracy: 0.8581 - val_loss: 0.2520 - val_accuracy: 0.9190 - lr: 0.0010\n",
      "Epoch 15/20\n",
      "158/158 [==============================] - 109s 691ms/step - loss: 0.3885 - accuracy: 0.8611 - val_loss: 0.1980 - val_accuracy: 0.9413 - lr: 0.0010\n",
      "Epoch 16/20\n",
      "158/158 [==============================] - 109s 689ms/step - loss: 0.3401 - accuracy: 0.8766 - val_loss: 0.2429 - val_accuracy: 0.9135 - lr: 0.0010\n",
      "Epoch 17/20\n",
      "158/158 [==============================] - 109s 689ms/step - loss: 0.3331 - accuracy: 0.8782 - val_loss: 0.1949 - val_accuracy: 0.9349 - lr: 0.0010\n",
      "Epoch 18/20\n",
      "158/158 [==============================] - 109s 687ms/step - loss: 0.3184 - accuracy: 0.8857 - val_loss: 0.2054 - val_accuracy: 0.9198 - lr: 0.0010\n",
      "Epoch 19/20\n",
      "158/158 [==============================] - 109s 693ms/step - loss: 0.3105 - accuracy: 0.8917 - val_loss: 0.1525 - val_accuracy: 0.9460 - lr: 0.0010\n",
      "Epoch 20/20\n",
      "158/158 [==============================] - 119s 756ms/step - loss: 0.2969 - accuracy: 0.8921 - val_loss: 0.1436 - val_accuracy: 0.9532 - lr: 0.0010\n"
     ]
    }
   ],
   "source": [
    "history = model.fit(train_gen, validation_data=validation_gen, epochs=20, verbose=1,\n",
    "                    callbacks=[early_stop, rate_reduction, csv_logger])"
   ],
   "metadata": {
    "collapsed": false,
    "pycharm": {
     "name": "#%%\n"
    }
   }
  },
  {
   "cell_type": "code",
   "execution_count": 12,
   "outputs": [
    {
     "name": "stdout",
     "output_type": "stream",
     "text": [
      "Found 2700 validated image filenames belonging to 9 classes.\n"
     ]
    }
   ],
   "source": [
    "import numpy as np\n",
    "\n",
    "test_gen = img_gen.flow_from_dataframe(test_data,\n",
    "                                       x_col=\"image\",\n",
    "                                       y_col=\"label\",\n",
    "                                       target_size=img_size,\n",
    "                                       class_mode=\"categorical\",\n",
    "                                       batch_size=32,\n",
    "                                       shuffle=False)\n",
    "\n",
    "prediction = np.argmax(model.predict(test_gen), axis=1)\n",
    "predicted_labels = train_gen.class_indices\n",
    "predicted_labels = dict((v, k) for k, v in predicted_labels.items())\n",
    "predictions = [predicted_labels[k] for k in prediction]"
   ],
   "metadata": {
    "collapsed": false,
    "pycharm": {
     "name": "#%%\n"
    }
   }
  },
  {
   "cell_type": "code",
   "execution_count": 13,
   "outputs": [
    {
     "name": "stdout",
     "output_type": "stream",
     "text": [
      "                    precision    recall  f1-score   support\n",
      "\n",
      "   Black Sea Sprat       0.97      0.96      0.96       300\n",
      "   Gilt-Head Bream       0.92      0.93      0.92       326\n",
      "   Hourse Mackerel       0.99      0.98      0.98       287\n",
      "        Red Mullet       1.00      0.96      0.98       288\n",
      "     Red Sea Bream       0.95      0.95      0.95       296\n",
      "          Sea Bass       0.94      0.90      0.92       298\n",
      "            Shrimp       0.99      0.99      0.99       314\n",
      "Striped Red Mullet       0.91      0.98      0.95       297\n",
      "             Trout       0.97      0.97      0.97       294\n",
      "\n",
      "          accuracy                           0.96      2700\n",
      "         macro avg       0.96      0.96      0.96      2700\n",
      "      weighted avg       0.96      0.96      0.96      2700\n",
      "\n",
      "Saved successfully\n"
     ]
    }
   ],
   "source": [
    "from sklearn.metrics import classification_report\n",
    "y_test = test_data.label\n",
    "print(classification_report(y_test, predictions))\n",
    "\n",
    "model.save(\"fishes_model.h5\", overwrite=True)\n",
    "print(\"Saved successfully\")"
   ],
   "metadata": {
    "collapsed": false,
    "pycharm": {
     "name": "#%%\n"
    }
   }
  },
  {
   "cell_type": "code",
   "execution_count": 14,
   "outputs": [
    {
     "name": "stdout",
     "output_type": "stream",
     "text": [
      "Saved successfully\n"
     ]
    }
   ],
   "source": [
    "from tensorflowjs import converters\n",
    "converters.save_keras_model(model, \"tf-js-model\")\n",
    "print(\"Saved successfully\")"
   ],
   "metadata": {
    "collapsed": false,
    "pycharm": {
     "name": "#%%\n"
    }
   }
  }
 ],
 "metadata": {
  "kernelspec": {
   "display_name": "Python 3",
   "language": "python",
   "name": "python3"
  },
  "language_info": {
   "codemirror_mode": {
    "name": "ipython",
    "version": 2
   },
   "file_extension": ".py",
   "mimetype": "text/x-python",
   "name": "python",
   "nbconvert_exporter": "python",
   "pygments_lexer": "ipython2",
   "version": "2.7.6"
  }
 },
 "nbformat": 4,
 "nbformat_minor": 0
}