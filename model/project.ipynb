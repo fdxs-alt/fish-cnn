{
 "cells": [
  {
   "cell_type": "code",
   "execution_count": 1,
   "metadata": {
    "collapsed": true
   },
   "outputs": [
    {
     "data": {
      "text/plain": "[WindowsPath('fishes/Fish_Dataset/Fish_Dataset/Black Sea Sprat/Black Sea Sprat/00001.png'),\n WindowsPath('fishes/Fish_Dataset/Fish_Dataset/Black Sea Sprat/Black Sea Sprat/00002.png'),\n WindowsPath('fishes/Fish_Dataset/Fish_Dataset/Black Sea Sprat/Black Sea Sprat/00003.png'),\n WindowsPath('fishes/Fish_Dataset/Fish_Dataset/Black Sea Sprat/Black Sea Sprat/00004.png'),\n WindowsPath('fishes/Fish_Dataset/Fish_Dataset/Black Sea Sprat/Black Sea Sprat/00005.png'),\n WindowsPath('fishes/Fish_Dataset/Fish_Dataset/Black Sea Sprat/Black Sea Sprat/00006.png'),\n WindowsPath('fishes/Fish_Dataset/Fish_Dataset/Black Sea Sprat/Black Sea Sprat/00007.png'),\n WindowsPath('fishes/Fish_Dataset/Fish_Dataset/Black Sea Sprat/Black Sea Sprat/00008.png'),\n WindowsPath('fishes/Fish_Dataset/Fish_Dataset/Black Sea Sprat/Black Sea Sprat/00009.png'),\n WindowsPath('fishes/Fish_Dataset/Fish_Dataset/Black Sea Sprat/Black Sea Sprat/00010.png')]"
     },
     "execution_count": 1,
     "metadata": {},
     "output_type": "execute_result"
    }
   ],
   "source": [
    "from PIL import  ImageFile\n",
    "ImageFile.LOAD_TRUNCATED_IMAGES = True\n",
    "\n",
    "\n",
    "## Getting the list of files\n",
    "from pathlib import Path\n",
    "\n",
    "fish_dir = Path('./fishes/Fish_Dataset/Fish_Dataset')\n",
    "file_path = list(fish_dir.glob(r\"**/*.png\"))\n",
    "\n",
    "file_path[:10]"
   ]
  },
  {
   "cell_type": "code",
   "execution_count": 2,
   "metadata": {
    "collapsed": false,
    "pycharm": {
     "name": "#%%\n"
    }
   },
   "outputs": [
    {
     "data": {
      "text/plain": "array(['Black Sea Sprat', 'Black Sea Sprat GT', 'Gilt-Head Bream',\n       'Gilt-Head Bream GT', 'Hourse Mackerel', 'Hourse Mackerel GT',\n       'Red Mullet', 'Red Mullet GT', 'Red Sea Bream', 'Red Sea Bream GT',\n       'Sea Bass', 'Sea Bass GT', 'Shrimp', 'Shrimp GT',\n       'Striped Red Mullet', 'Striped Red Mullet GT', 'Trout', 'Trout GT'],\n      dtype=object)"
     },
     "execution_count": 2,
     "metadata": {},
     "output_type": "execute_result"
    }
   ],
   "source": [
    "## Getting the labels of the images\n",
    "from os import path\n",
    "import pandas as pd\n",
    "\n",
    "labels = list(map(lambda f: path.split(path.split(f)[0])[1], file_path))\n",
    "\n",
    "labels = pd.Series(labels)\n",
    "labels.unique()"
   ]
  },
  {
   "cell_type": "code",
   "execution_count": 3,
   "metadata": {
    "collapsed": false,
    "pycharm": {
     "name": "#%%\n"
    }
   },
   "outputs": [
    {
     "data": {
      "text/plain": "0    fishes\\Fish_Dataset\\Fish_Dataset\\Black Sea Spr...\n1    fishes\\Fish_Dataset\\Fish_Dataset\\Black Sea Spr...\n2    fishes\\Fish_Dataset\\Fish_Dataset\\Black Sea Spr...\n3    fishes\\Fish_Dataset\\Fish_Dataset\\Black Sea Spr...\n4    fishes\\Fish_Dataset\\Fish_Dataset\\Black Sea Spr...\ndtype: object"
     },
     "execution_count": 3,
     "metadata": {},
     "output_type": "execute_result"
    }
   ],
   "source": [
    "## Images series\n",
    "images = pd.Series(file_path).astype(str)\n",
    "images.head()"
   ]
  },
  {
   "cell_type": "code",
   "execution_count": 4,
   "metadata": {
    "collapsed": false,
    "pycharm": {
     "name": "#%%\n"
    }
   },
   "outputs": [
    {
     "data": {
      "text/plain": "(9000, 2)"
     },
     "execution_count": 4,
     "metadata": {},
     "output_type": "execute_result"
    }
   ],
   "source": [
    "## Creating dataframe of fishes with their labels\n",
    "fishes = pd.concat([images, labels], axis=1)\n",
    "fishes.columns = [\"image\", \"label\"]\n",
    "fishes = fishes[fishes[\"label\"].apply(lambda x: x[-2:] != \"GT\")].sample(frac=1).reset_index(drop=True)\n",
    "fishes.shape"
   ]
  },
  {
   "cell_type": "code",
   "execution_count": 5,
   "metadata": {
    "collapsed": false,
    "pycharm": {
     "name": "#%%\n"
    }
   },
   "outputs": [
    {
     "name": "stdout",
     "output_type": "stream",
     "text": [
      "(8100, 2)\n",
      "(900, 2)\n"
     ]
    }
   ],
   "source": [
    "## Splitting data\n",
    "from sklearn.model_selection import train_test_split\n",
    "\n",
    "train_data, test_data = train_test_split(fishes, test_size=0.1, random_state=15, shuffle=True)\n",
    "\n",
    "print(train_data.shape)\n",
    "print(test_data.shape)"
   ]
  },
  {
   "cell_type": "code",
   "execution_count": 6,
   "metadata": {
    "collapsed": false,
    "pycharm": {
     "name": "#%%\n"
    }
   },
   "outputs": [
    {
     "name": "stdout",
     "output_type": "stream",
     "text": [
      "Sea Bass              916\n",
      "Gilt-Head Bream       907\n",
      "Shrimp                905\n",
      "Red Sea Bream         902\n",
      "Black Sea Sprat       897\n",
      "Red Mullet            897\n",
      "Hourse Mackerel       895\n",
      "Striped Red Mullet    892\n",
      "Trout                 889\n",
      "Name: label, dtype: int64\n",
      "###\n",
      "Trout                 111\n",
      "Striped Red Mullet    108\n",
      "Hourse Mackerel       105\n",
      "Black Sea Sprat       103\n",
      "Red Mullet            103\n",
      "Red Sea Bream          98\n",
      "Shrimp                 95\n",
      "Gilt-Head Bream        93\n",
      "Sea Bass               84\n",
      "Name: label, dtype: int64\n"
     ]
    }
   ],
   "source": [
    "print(train_data.label.value_counts())\n",
    "print(\"###\")\n",
    "print(test_data.label.value_counts())"
   ]
  },
  {
   "cell_type": "code",
   "execution_count": 7,
   "metadata": {
    "collapsed": false,
    "pycharm": {
     "name": "#%%\n"
    }
   },
   "outputs": [
    {
     "name": "stdout",
     "output_type": "stream",
     "text": [
      "Found 6885 validated image filenames belonging to 9 classes.\n",
      "Found 1215 validated image filenames belonging to 9 classes.\n",
      "Found 900 validated image filenames belonging to 9 classes.\n"
     ]
    }
   ],
   "source": [
    "## Image Generator\n",
    "from tensorflow.keras.preprocessing.image import ImageDataGenerator\n",
    "\n",
    "img_size = (224, 224)\n",
    "input_shape = (224, 224, 3)\n",
    "\n",
    "train_gen = ImageDataGenerator(rescale=1. / 255, validation_split=0.15)\n",
    "test_gen = ImageDataGenerator()\n",
    "\n",
    "train_images = train_gen.flow_from_dataframe(dataframe=train_data,\n",
    "                                             x_col=\"image\",\n",
    "                                             y_col=\"label\",\n",
    "                                             target_size=img_size,\n",
    "                                             class_mode=\"categorical\",\n",
    "                                             batch_size=32,\n",
    "                                             subset=\"training\",\n",
    "                                             seed=15,\n",
    "                                             color_mode=\"rgb\",\n",
    "                                             shuffle=True)\n",
    "\n",
    "validation_images = train_gen.flow_from_dataframe(dataframe=train_data,\n",
    "                                                  x_col=\"image\",\n",
    "                                                  y_col=\"label\",\n",
    "                                                  target_size=img_size,\n",
    "                                                  class_mode=\"categorical\",\n",
    "                                                  batch_size=32,\n",
    "                                                  subset=\"validation\",\n",
    "                                                  seed=15,\n",
    "                                                  color_mode=\"rgb\",\n",
    "                                                  shuffle=True)\n",
    "\n",
    "test_images = test_gen.flow_from_dataframe(dataframe=test_data,\n",
    "                                           x_col=\"image\",\n",
    "                                           y_col=\"label\",\n",
    "                                           target_size=img_size,\n",
    "                                           class_mode=\"categorical\",\n",
    "                                           batch_size=32,\n",
    "                                           color_mode=\"rgb\",\n",
    "                                           shuffle=False)"
   ]
  },
  {
   "cell_type": "code",
   "execution_count": 8,
   "metadata": {
    "collapsed": false,
    "pycharm": {
     "name": "#%%\n"
    }
   },
   "outputs": [
    {
     "name": "stdout",
     "output_type": "stream",
     "text": [
      "Model: \"sequential\"\n",
      "_________________________________________________________________\n",
      "Layer (type)                 Output Shape              Param #   \n",
      "=================================================================\n",
      "conv2d (Conv2D)              (None, 224, 224, 32)      2432      \n",
      "_________________________________________________________________\n",
      "max_pooling2d (MaxPooling2D) (None, 112, 112, 32)      0         \n",
      "_________________________________________________________________\n",
      "flatten (Flatten)            (None, 401408)            0         \n",
      "_________________________________________________________________\n",
      "dense (Dense)                (None, 128)               51380352  \n",
      "_________________________________________________________________\n",
      "dropout (Dropout)            (None, 128)               0         \n",
      "_________________________________________________________________\n",
      "dense_1 (Dense)              (None, 128)               16512     \n",
      "_________________________________________________________________\n",
      "dropout_1 (Dropout)          (None, 128)               0         \n",
      "_________________________________________________________________\n",
      "dense_2 (Dense)              (None, 9)                 1161      \n",
      "=================================================================\n",
      "Total params: 51,400,457\n",
      "Trainable params: 51,400,457\n",
      "Non-trainable params: 0\n",
      "_________________________________________________________________\n"
     ]
    }
   ],
   "source": [
    "from keras import Sequential\n",
    "from tensorflow.keras.layers import MaxPooling2D, Dropout, Flatten, Dense, Conv2D\n",
    "\n",
    "model = Sequential([Conv2D(32, (5, 5), activation='relu', strides=(1, 1), input_shape=input_shape, padding=\"same\"),\n",
    "                    MaxPooling2D(pool_size=(2, 2)), Flatten(),\n",
    "                    Dense(128, activation='relu'), Dropout(0.15),\n",
    "                    Dense(128, activation='relu'), Dropout(0.15), Dense(9, activation=\"softmax\")])\n",
    "\n",
    "model.summary()"
   ]
  },
  {
   "cell_type": "code",
   "execution_count": 9,
   "metadata": {
    "collapsed": false,
    "pycharm": {
     "name": "#%%\n"
    }
   },
   "outputs": [],
   "source": [
    "model.compile(optimizer=\"adam\", loss=\"categorical_crossentropy\", metrics=[\"accuracy\"])"
   ]
  },
  {
   "cell_type": "code",
   "execution_count": 10,
   "metadata": {
    "collapsed": false,
    "pycharm": {
     "name": "#%%\n"
    }
   },
   "outputs": [],
   "source": [
    "from tensorflow.keras.callbacks import ReduceLROnPlateau, EarlyStopping, CSVLogger\n",
    "\n",
    "rate_reduction = ReduceLROnPlateau(monitor=\"val_accuracy\", patience=5, verbose=1, factor=0.2, min_lr=0.0001)\n",
    "early_stop = EarlyStopping(\n",
    "    monitor='val_loss', patience=5, restore_best_weights=True)\n",
    "csv_logger = CSVLogger(\"model_history_log.csv\", append=True)"
   ]
  },
  {
   "cell_type": "code",
   "execution_count": 11,
   "metadata": {
    "collapsed": false,
    "pycharm": {
     "name": "#%%\n"
    }
   },
   "outputs": [
    {
     "name": "stdout",
     "output_type": "stream",
     "text": [
      "Epoch 1/50\n",
      "216/216 [==============================] - 129s 599ms/step - loss: 0.9478 - accuracy: 0.7275 - val_loss: 0.1994 - val_accuracy: 0.9309\n",
      "Epoch 2/50\n",
      "216/216 [==============================] - 128s 593ms/step - loss: 0.1305 - accuracy: 0.9589 - val_loss: 0.1041 - val_accuracy: 0.9638\n",
      "Epoch 3/50\n",
      "216/216 [==============================] - 128s 594ms/step - loss: 0.0545 - accuracy: 0.9832 - val_loss: 0.1014 - val_accuracy: 0.9679\n",
      "Epoch 4/50\n",
      "216/216 [==============================] - 130s 601ms/step - loss: 0.0314 - accuracy: 0.9904 - val_loss: 0.0839 - val_accuracy: 0.9778\n",
      "Epoch 5/50\n",
      "216/216 [==============================] - 129s 596ms/step - loss: 0.0261 - accuracy: 0.9922 - val_loss: 0.1319 - val_accuracy: 0.9621\n",
      "Epoch 6/50\n",
      "216/216 [==============================] - 128s 593ms/step - loss: 0.0185 - accuracy: 0.9942 - val_loss: 0.0527 - val_accuracy: 0.9852\n",
      "Epoch 7/50\n",
      "216/216 [==============================] - 127s 590ms/step - loss: 0.0219 - accuracy: 0.9922 - val_loss: 0.1073 - val_accuracy: 0.9671\n",
      "Epoch 8/50\n",
      "216/216 [==============================] - 127s 586ms/step - loss: 0.0481 - accuracy: 0.9874 - val_loss: 0.0406 - val_accuracy: 0.9844\n",
      "Epoch 9/50\n",
      "216/216 [==============================] - 128s 594ms/step - loss: 0.0197 - accuracy: 0.9940 - val_loss: 0.0458 - val_accuracy: 0.9868\n",
      "Epoch 10/50\n",
      "216/216 [==============================] - 128s 593ms/step - loss: 0.0028 - accuracy: 0.9993 - val_loss: 0.0491 - val_accuracy: 0.9893\n",
      "Epoch 11/50\n",
      "216/216 [==============================] - 127s 588ms/step - loss: 0.0014 - accuracy: 0.9994 - val_loss: 0.0729 - val_accuracy: 0.9835\n",
      "Epoch 12/50\n",
      "216/216 [==============================] - 126s 585ms/step - loss: 0.0072 - accuracy: 0.9980 - val_loss: 0.0722 - val_accuracy: 0.9786\n",
      "Epoch 13/50\n",
      "216/216 [==============================] - 126s 585ms/step - loss: 0.0192 - accuracy: 0.9949 - val_loss: 0.0885 - val_accuracy: 0.9720\n"
     ]
    }
   ],
   "source": [
    "history = model.fit(train_images, validation_data=validation_images, epochs=50, verbose=1,\n",
    "                    callbacks=[rate_reduction, early_stop, csv_logger])"
   ]
  },
  {
   "cell_type": "code",
   "execution_count": 12,
   "metadata": {
    "collapsed": false,
    "pycharm": {
     "name": "#%%\n"
    }
   },
   "outputs": [],
   "source": [
    "import numpy as np\n",
    "\n",
    "prediction = np.argmax(model.predict(test_images), axis=1)\n",
    "predicted_labels = test_images.class_indices\n",
    "predicted_labels = dict((v, k) for k, v in predicted_labels.items())\n",
    "predictions = [predicted_labels[k] for k in prediction]"
   ]
  },
  {
   "cell_type": "code",
   "execution_count": 13,
   "metadata": {
    "collapsed": false,
    "pycharm": {
     "name": "#%%\n"
    }
   },
   "outputs": [
    {
     "name": "stdout",
     "output_type": "stream",
     "text": [
      "                    precision    recall  f1-score   support\n",
      "\n",
      "   Black Sea Sprat       0.97      0.99      0.98       103\n",
      "   Gilt-Head Bream       0.98      1.00      0.99        93\n",
      "   Hourse Mackerel       0.99      0.98      0.99       105\n",
      "        Red Mullet       1.00      0.96      0.98       103\n",
      "     Red Sea Bream       0.95      0.98      0.96        98\n",
      "          Sea Bass       0.95      0.99      0.97        84\n",
      "            Shrimp       0.98      0.98      0.98        95\n",
      "Striped Red Mullet       1.00      0.95      0.98       108\n",
      "             Trout       0.99      0.99      0.99       111\n",
      "\n",
      "          accuracy                           0.98       900\n",
      "         macro avg       0.98      0.98      0.98       900\n",
      "      weighted avg       0.98      0.98      0.98       900\n",
      "\n",
      "0.98\n"
     ]
    },
    {
     "data": {
      "text/plain": "array([[0.99029126, 0.        , 0.        , 0.        , 0.        ,\n        0.        , 0.        , 0.        , 0.00970874],\n       [0.        , 1.        , 0.        , 0.        , 0.        ,\n        0.        , 0.        , 0.        , 0.        ],\n       [0.        , 0.        , 0.98095238, 0.        , 0.        ,\n        0.        , 0.01904762, 0.        , 0.        ],\n       [0.        , 0.        , 0.        , 0.96116505, 0.00970874,\n        0.02912621, 0.        , 0.        , 0.        ],\n       [0.01020408, 0.        , 0.        , 0.        , 0.97959184,\n        0.01020408, 0.        , 0.        , 0.        ],\n       [0.        , 0.01190476, 0.        , 0.        , 0.        ,\n        0.98809524, 0.        , 0.        , 0.        ],\n       [0.02105263, 0.        , 0.        , 0.        , 0.        ,\n        0.        , 0.97894737, 0.        , 0.        ],\n       [0.        , 0.        , 0.00925926, 0.        , 0.03703704,\n        0.        , 0.        , 0.9537037 , 0.        ],\n       [0.        , 0.00900901, 0.        , 0.        , 0.        ,\n        0.        , 0.        , 0.        , 0.99099099]])"
     },
     "execution_count": 13,
     "metadata": {},
     "output_type": "execute_result"
    }
   ],
   "source": [
    "from sklearn.metrics import confusion_matrix, classification_report, accuracy_score\n",
    "\n",
    "y_test = test_data.label\n",
    "print(classification_report(y_test, predictions))\n",
    "\n",
    "print(accuracy_score(y_test, predictions))\n",
    "confusion_matrix(y_test, predictions, normalize='true')"
   ]
  },
  {
   "cell_type": "code",
   "execution_count": 14,
   "metadata": {
    "collapsed": false,
    "pycharm": {
     "name": "#%%\n"
    }
   },
   "outputs": [
    {
     "name": "stdout",
     "output_type": "stream",
     "text": [
      "Saved successfully\n"
     ]
    }
   ],
   "source": [
    "from tensorflowjs import converters\n",
    "\n",
    "converters.save_keras_model(model, \"tf-js-model\")\n",
    "\n",
    "print(\"Saved successfully\")"
   ]
  },
  {
   "cell_type": "code",
   "execution_count": 15,
   "outputs": [
    {
     "name": "stdout",
     "output_type": "stream",
     "text": [
      "['fishes\\\\Fish_Dataset\\\\Fish_Dataset\\\\Red Sea Bream\\\\Red Sea Bream\\\\00580.png', 'fishes\\\\Fish_Dataset\\\\Fish_Dataset\\\\Shrimp\\\\Shrimp\\\\00438.png', 'fishes\\\\Fish_Dataset\\\\Fish_Dataset\\\\Hourse Mackerel\\\\Hourse Mackerel\\\\00976.png', 'fishes\\\\Fish_Dataset\\\\Fish_Dataset\\\\Sea Bass\\\\Sea Bass\\\\00345.png', 'fishes\\\\Fish_Dataset\\\\Fish_Dataset\\\\Black Sea Sprat\\\\Black Sea Sprat\\\\00719.png', 'fishes\\\\Fish_Dataset\\\\Fish_Dataset\\\\Gilt-Head Bream\\\\Gilt-Head Bream\\\\00361.png']\n",
      "['Red Sea Bream', 'Shrimp', 'Hourse Mackerel', 'Sea Bass', 'Black Sea Sprat', 'Gilt-Head Bream']\n"
     ]
    }
   ],
   "source": [
    "print(test_images.filenames[:6])\n",
    "print(predictions[:6])"
   ],
   "metadata": {
    "collapsed": false,
    "pycharm": {
     "name": "#%%\n"
    }
   }
  }
 ],
 "metadata": {
  "kernelspec": {
   "display_name": "Python 3",
   "language": "python",
   "name": "python3"
  },
  "language_info": {
   "codemirror_mode": {
    "name": "ipython",
    "version": 2
   },
   "file_extension": ".py",
   "mimetype": "text/x-python",
   "name": "python",
   "nbconvert_exporter": "python",
   "pygments_lexer": "ipython2",
   "version": "2.7.6"
  }
 },
 "nbformat": 4,
 "nbformat_minor": 0
}