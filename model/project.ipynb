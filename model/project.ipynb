{
 "cells": [
  {
   "cell_type": "code",
   "execution_count": 28,
   "metadata": {
    "collapsed": true
   },
   "outputs": [
    {
     "data": {
      "text/plain": "[WindowsPath('fishes/Fish_Dataset/Fish_Dataset/Black Sea Sprat/Black Sea Sprat/00001.png'),\n WindowsPath('fishes/Fish_Dataset/Fish_Dataset/Black Sea Sprat/Black Sea Sprat/00002.png'),\n WindowsPath('fishes/Fish_Dataset/Fish_Dataset/Black Sea Sprat/Black Sea Sprat/00003.png'),\n WindowsPath('fishes/Fish_Dataset/Fish_Dataset/Black Sea Sprat/Black Sea Sprat/00004.png'),\n WindowsPath('fishes/Fish_Dataset/Fish_Dataset/Black Sea Sprat/Black Sea Sprat/00005.png'),\n WindowsPath('fishes/Fish_Dataset/Fish_Dataset/Black Sea Sprat/Black Sea Sprat/00006.png'),\n WindowsPath('fishes/Fish_Dataset/Fish_Dataset/Black Sea Sprat/Black Sea Sprat/00007.png'),\n WindowsPath('fishes/Fish_Dataset/Fish_Dataset/Black Sea Sprat/Black Sea Sprat/00008.png'),\n WindowsPath('fishes/Fish_Dataset/Fish_Dataset/Black Sea Sprat/Black Sea Sprat/00009.png'),\n WindowsPath('fishes/Fish_Dataset/Fish_Dataset/Black Sea Sprat/Black Sea Sprat/00010.png')]"
     },
     "execution_count": 28,
     "metadata": {},
     "output_type": "execute_result"
    }
   ],
   "source": [
    "from PIL import ImageFile\n",
    "ImageFile.LOAD_TRUNCATED_IMAGES = True\n",
    "\n",
    "\n",
    "## Getting the list of files\n",
    "from pathlib import Path\n",
    "\n",
    "fish_dir = Path('./fishes/Fish_Dataset/Fish_Dataset')\n",
    "file_path = list(fish_dir.glob(r\"**/*.png\"))\n",
    "\n",
    "file_path[:10]"
   ]
  },
  {
   "cell_type": "code",
   "execution_count": 29,
   "metadata": {
    "collapsed": false,
    "pycharm": {
     "name": "#%%\n"
    }
   },
   "outputs": [
    {
     "data": {
      "text/plain": "array(['Black Sea Sprat', 'Black Sea Sprat GT', 'Gilt-Head Bream',\n       'Gilt-Head Bream GT', 'Hourse Mackerel', 'Hourse Mackerel GT',\n       'Red Mullet', 'Red Mullet GT', 'Red Sea Bream', 'Red Sea Bream GT',\n       'Sea Bass', 'Sea Bass GT', 'Shrimp', 'Shrimp GT',\n       'Striped Red Mullet', 'Striped Red Mullet GT', 'Trout', 'Trout GT'],\n      dtype=object)"
     },
     "execution_count": 29,
     "metadata": {},
     "output_type": "execute_result"
    }
   ],
   "source": [
    "## Getting the labels of the images\n",
    "from os import path\n",
    "import pandas as pd\n",
    "\n",
    "labels = list(map(lambda f: path.split(path.split(f)[0])[1], file_path))\n",
    "\n",
    "labels = pd.Series(labels)\n",
    "labels.unique()"
   ]
  },
  {
   "cell_type": "code",
   "execution_count": 30,
   "metadata": {
    "collapsed": false,
    "pycharm": {
     "name": "#%%\n"
    }
   },
   "outputs": [
    {
     "data": {
      "text/plain": "0    fishes\\Fish_Dataset\\Fish_Dataset\\Black Sea Spr...\n1    fishes\\Fish_Dataset\\Fish_Dataset\\Black Sea Spr...\n2    fishes\\Fish_Dataset\\Fish_Dataset\\Black Sea Spr...\n3    fishes\\Fish_Dataset\\Fish_Dataset\\Black Sea Spr...\n4    fishes\\Fish_Dataset\\Fish_Dataset\\Black Sea Spr...\ndtype: object"
     },
     "execution_count": 30,
     "metadata": {},
     "output_type": "execute_result"
    }
   ],
   "source": [
    "## Images series\n",
    "images = pd.Series(file_path).astype(str)\n",
    "images.head()"
   ]
  },
  {
   "cell_type": "code",
   "execution_count": 31,
   "metadata": {
    "collapsed": false,
    "pycharm": {
     "name": "#%%\n"
    }
   },
   "outputs": [
    {
     "data": {
      "text/plain": "(9000, 2)"
     },
     "execution_count": 31,
     "metadata": {},
     "output_type": "execute_result"
    }
   ],
   "source": [
    "## Creating dataframe of fishes with their labels\n",
    "fishes = pd.concat([images, labels], axis=1)\n",
    "fishes.columns = [\"image\", \"label\"]\n",
    "fishes = fishes[fishes[\"label\"].apply(lambda x: x[-2:] != \"GT\")].sample(frac=1).reset_index(drop=True)\n",
    "fishes.shape"
   ]
  },
  {
   "cell_type": "code",
   "execution_count": 32,
   "metadata": {
    "collapsed": false,
    "pycharm": {
     "name": "#%%\n"
    }
   },
   "outputs": [
    {
     "name": "stdout",
     "output_type": "stream",
     "text": [
      "(7650, 2)\n",
      "(1350, 2)\n"
     ]
    }
   ],
   "source": [
    "## Splitting data\n",
    "from sklearn.model_selection import train_test_split\n",
    "\n",
    "train_data, test_data = train_test_split(fishes, test_size=0.15, random_state=15, shuffle=True)\n",
    "\n",
    "print(train_data.shape)\n",
    "print(test_data.shape)"
   ]
  },
  {
   "cell_type": "code",
   "execution_count": 33,
   "metadata": {
    "collapsed": false,
    "pycharm": {
     "name": "#%%\n"
    }
   },
   "outputs": [
    {
     "name": "stdout",
     "output_type": "stream",
     "text": [
      "Gilt-Head Bream       860\n",
      "Red Sea Bream         859\n",
      "Shrimp                857\n",
      "Red Mullet            857\n",
      "Sea Bass              851\n",
      "Black Sea Sprat       847\n",
      "Striped Red Mullet    847\n",
      "Trout                 838\n",
      "Hourse Mackerel       834\n",
      "Name: label, dtype: int64\n",
      "###\n",
      "Hourse Mackerel       166\n",
      "Trout                 162\n",
      "Black Sea Sprat       153\n",
      "Striped Red Mullet    153\n",
      "Sea Bass              149\n",
      "Shrimp                143\n",
      "Red Mullet            143\n",
      "Red Sea Bream         141\n",
      "Gilt-Head Bream       140\n",
      "Name: label, dtype: int64\n"
     ]
    }
   ],
   "source": [
    "print(train_data.label.value_counts())\n",
    "print(\"###\")\n",
    "print(test_data.label.value_counts())"
   ]
  },
  {
   "cell_type": "code",
   "execution_count": 34,
   "metadata": {
    "collapsed": false,
    "pycharm": {
     "name": "#%%\n"
    }
   },
   "outputs": [
    {
     "name": "stdout",
     "output_type": "stream",
     "text": [
      "Found 6120 validated image filenames belonging to 9 classes.\n",
      "Found 1530 validated image filenames belonging to 9 classes.\n",
      "Found 1350 validated image filenames belonging to 9 classes.\n"
     ]
    }
   ],
   "source": [
    "## Image Generator\n",
    "from tensorflow.keras.preprocessing.image import ImageDataGenerator\n",
    "\n",
    "img_size = (224, 224)\n",
    "input_shape = (224, 224, 3)\n",
    "\n",
    "train_gen = ImageDataGenerator(rescale=1. / 255, validation_split=0.2, zoom_range=0.2)\n",
    "test_gen = ImageDataGenerator()\n",
    "\n",
    "train_images = train_gen.flow_from_dataframe(dataframe=train_data,\n",
    "                                             x_col=\"image\",\n",
    "                                             y_col=\"label\",\n",
    "                                             target_size=img_size,\n",
    "                                             class_mode=\"categorical\",\n",
    "                                             batch_size=32,\n",
    "                                             subset=\"training\",\n",
    "                                             seed=15,\n",
    "                                             color_mode=\"rgb\",\n",
    "                                             shuffle=True)\n",
    "\n",
    "validation_images = train_gen.flow_from_dataframe(dataframe=train_data,\n",
    "                                                  x_col=\"image\",\n",
    "                                                  y_col=\"label\",\n",
    "                                                  target_size=img_size,\n",
    "                                                  class_mode=\"categorical\",\n",
    "                                                  batch_size=32,\n",
    "                                                  subset=\"validation\",\n",
    "                                                  seed=15,\n",
    "                                                  color_mode=\"rgb\",\n",
    "                                                  shuffle=True)\n",
    "\n",
    "test_images = test_gen.flow_from_dataframe(dataframe=test_data,\n",
    "                                           x_col=\"image\",\n",
    "                                           y_col=\"label\",\n",
    "                                           target_size=img_size,\n",
    "                                           class_mode=\"categorical\",\n",
    "                                           batch_size=32,\n",
    "                                           color_mode=\"rgb\",\n",
    "                                           shuffle=False)"
   ]
  },
  {
   "cell_type": "code",
   "execution_count": 35,
   "metadata": {
    "collapsed": false,
    "pycharm": {
     "name": "#%%\n"
    }
   },
   "outputs": [
    {
     "name": "stdout",
     "output_type": "stream",
     "text": [
      "Model: \"sequential_2\"\n",
      "_________________________________________________________________\n",
      "Layer (type)                 Output Shape              Param #   \n",
      "=================================================================\n",
      "conv2d_4 (Conv2D)            (None, 112, 112, 32)      896       \n",
      "_________________________________________________________________\n",
      "max_pooling2d_4 (MaxPooling2 (None, 56, 56, 32)        0         \n",
      "_________________________________________________________________\n",
      "conv2d_5 (Conv2D)            (None, 54, 54, 32)        9248      \n",
      "_________________________________________________________________\n",
      "activation_2 (Activation)    (None, 54, 54, 32)        0         \n",
      "_________________________________________________________________\n",
      "max_pooling2d_5 (MaxPooling2 (None, 27, 27, 32)        0         \n",
      "_________________________________________________________________\n",
      "flatten_2 (Flatten)          (None, 23328)             0         \n",
      "_________________________________________________________________\n",
      "dense_6 (Dense)              (None, 128)               2986112   \n",
      "_________________________________________________________________\n",
      "dropout_4 (Dropout)          (None, 128)               0         \n",
      "_________________________________________________________________\n",
      "dense_7 (Dense)              (None, 128)               16512     \n",
      "_________________________________________________________________\n",
      "dropout_5 (Dropout)          (None, 128)               0         \n",
      "_________________________________________________________________\n",
      "dense_8 (Dense)              (None, 9)                 1161      \n",
      "=================================================================\n",
      "Total params: 3,013,929\n",
      "Trainable params: 3,013,929\n",
      "Non-trainable params: 0\n",
      "_________________________________________________________________\n"
     ]
    }
   ],
   "source": [
    "from keras import Sequential\n",
    "from tensorflow.keras.layers import MaxPooling2D, Dropout, Flatten, Dense, Conv2D, Activation\n",
    "\n",
    "model = Sequential([Conv2D(32, (3, 3), activation='relu', strides=2, input_shape=input_shape, padding=\"same\"),\n",
    "                    MaxPooling2D(pool_size=(2, 2)),\n",
    "                    Conv2D(32, (3, 3)), Activation('relu'), MaxPooling2D(pool_size=(2, 2)),\n",
    "                    Flatten(), Dense(128, activation='relu'),  Dropout(0.15),\n",
    "                    Dense(128, activation='relu'), Dropout(0.2), Dense(9, activation=\"softmax\")])\n",
    "\n",
    "model.summary()"
   ]
  },
  {
   "cell_type": "code",
   "execution_count": 36,
   "metadata": {
    "collapsed": false,
    "pycharm": {
     "name": "#%%\n"
    }
   },
   "outputs": [],
   "source": [
    "model.compile(optimizer=\"adam\", loss=\"categorical_crossentropy\", metrics=[\"accuracy\"])"
   ]
  },
  {
   "cell_type": "code",
   "execution_count": 37,
   "metadata": {
    "collapsed": false,
    "pycharm": {
     "name": "#%%\n"
    }
   },
   "outputs": [],
   "source": [
    "from tensorflow.keras.callbacks import ReduceLROnPlateau, EarlyStopping, CSVLogger\n",
    "\n",
    "rate_reduction = ReduceLROnPlateau(monitor=\"val_accuracy\", patience=5, verbose=1, factor=0.2, min_lr=0.0001)\n",
    "early_stop = EarlyStopping(\n",
    "    monitor='val_loss', patience=5, restore_best_weights=True)\n",
    "csv_logger = CSVLogger(\"model_history_log.csv\", append=True)"
   ]
  },
  {
   "cell_type": "code",
   "execution_count": 38,
   "metadata": {
    "collapsed": false,
    "pycharm": {
     "name": "#%%\n"
    }
   },
   "outputs": [
    {
     "name": "stdout",
     "output_type": "stream",
     "text": [
      "Epoch 1/50\n",
      "192/192 [==============================] - 109s 568ms/step - loss: 1.6207 - accuracy: 0.4046 - val_loss: 0.9271 - val_accuracy: 0.7092\n",
      "Epoch 2/50\n",
      "192/192 [==============================] - 108s 563ms/step - loss: 0.8358 - accuracy: 0.7016 - val_loss: 0.5924 - val_accuracy: 0.7765\n",
      "Epoch 3/50\n",
      "192/192 [==============================] - 109s 566ms/step - loss: 0.5534 - accuracy: 0.8039 - val_loss: 0.4506 - val_accuracy: 0.8418\n",
      "Epoch 4/50\n",
      "192/192 [==============================] - 109s 566ms/step - loss: 0.4273 - accuracy: 0.8515 - val_loss: 0.3525 - val_accuracy: 0.8771\n",
      "Epoch 5/50\n",
      "192/192 [==============================] - 108s 565ms/step - loss: 0.3094 - accuracy: 0.8905 - val_loss: 0.2250 - val_accuracy: 0.9255\n",
      "Epoch 6/50\n",
      "192/192 [==============================] - 109s 566ms/step - loss: 0.2220 - accuracy: 0.9222 - val_loss: 0.1897 - val_accuracy: 0.9314\n",
      "Epoch 7/50\n",
      "192/192 [==============================] - 108s 565ms/step - loss: 0.1989 - accuracy: 0.9324 - val_loss: 0.2751 - val_accuracy: 0.9033\n",
      "Epoch 8/50\n",
      "192/192 [==============================] - 109s 566ms/step - loss: 0.1744 - accuracy: 0.9420 - val_loss: 0.1493 - val_accuracy: 0.9471\n",
      "Epoch 9/50\n",
      "192/192 [==============================] - 108s 565ms/step - loss: 0.1303 - accuracy: 0.9560 - val_loss: 0.1314 - val_accuracy: 0.9569\n",
      "Epoch 10/50\n",
      "192/192 [==============================] - 109s 566ms/step - loss: 0.1267 - accuracy: 0.9556 - val_loss: 0.1466 - val_accuracy: 0.9438\n",
      "Epoch 11/50\n",
      "192/192 [==============================] - 109s 566ms/step - loss: 0.1232 - accuracy: 0.9600 - val_loss: 0.1040 - val_accuracy: 0.9608\n",
      "Epoch 12/50\n",
      "192/192 [==============================] - 109s 569ms/step - loss: 0.1030 - accuracy: 0.9645 - val_loss: 0.1900 - val_accuracy: 0.9412\n",
      "Epoch 13/50\n",
      "192/192 [==============================] - 114s 593ms/step - loss: 0.1045 - accuracy: 0.9636 - val_loss: 0.1041 - val_accuracy: 0.9614\n",
      "Epoch 14/50\n",
      "192/192 [==============================] - 114s 592ms/step - loss: 0.1015 - accuracy: 0.9654 - val_loss: 0.0844 - val_accuracy: 0.9725\n",
      "Epoch 15/50\n",
      "192/192 [==============================] - 113s 588ms/step - loss: 0.0958 - accuracy: 0.9691 - val_loss: 0.1340 - val_accuracy: 0.9549\n",
      "Epoch 16/50\n",
      "192/192 [==============================] - 115s 601ms/step - loss: 0.0733 - accuracy: 0.9771 - val_loss: 0.0875 - val_accuracy: 0.9706\n",
      "Epoch 17/50\n",
      "192/192 [==============================] - 117s 610ms/step - loss: 0.0640 - accuracy: 0.9789 - val_loss: 0.0695 - val_accuracy: 0.9804\n",
      "Epoch 18/50\n",
      "192/192 [==============================] - 113s 590ms/step - loss: 0.0597 - accuracy: 0.9809 - val_loss: 0.1144 - val_accuracy: 0.9621\n",
      "Epoch 19/50\n",
      "192/192 [==============================] - 115s 600ms/step - loss: 0.0612 - accuracy: 0.9797 - val_loss: 0.0913 - val_accuracy: 0.9686\n",
      "Epoch 20/50\n",
      "192/192 [==============================] - 114s 595ms/step - loss: 0.0679 - accuracy: 0.9781 - val_loss: 0.1866 - val_accuracy: 0.9477\n",
      "Epoch 21/50\n",
      "192/192 [==============================] - 113s 590ms/step - loss: 0.0612 - accuracy: 0.9788 - val_loss: 0.1034 - val_accuracy: 0.9706\n",
      "Epoch 22/50\n",
      "192/192 [==============================] - ETA: 0s - loss: 0.0459 - accuracy: 0.9842\n",
      "Epoch 00022: ReduceLROnPlateau reducing learning rate to 0.00020000000949949026.\n",
      "192/192 [==============================] - 116s 605ms/step - loss: 0.0459 - accuracy: 0.9842 - val_loss: 0.0808 - val_accuracy: 0.9706\n"
     ]
    }
   ],
   "source": [
    "history = model.fit(train_images, validation_data=validation_images, epochs=50, verbose=1,\n",
    "                    callbacks=[rate_reduction, early_stop, csv_logger])"
   ]
  },
  {
   "cell_type": "code",
   "execution_count": 39,
   "metadata": {
    "collapsed": false,
    "pycharm": {
     "name": "#%%\n"
    }
   },
   "outputs": [],
   "source": [
    "import numpy as np\n",
    "\n",
    "prediction = np.argmax(model.predict(test_images), axis=1)\n",
    "predicted_labels = test_images.class_indices\n",
    "predicted_labels = dict((v, k) for k, v in predicted_labels.items())\n",
    "predictions = [predicted_labels[k] for k in prediction]"
   ]
  },
  {
   "cell_type": "code",
   "execution_count": 40,
   "metadata": {
    "collapsed": false,
    "pycharm": {
     "name": "#%%\n"
    }
   },
   "outputs": [
    {
     "name": "stdout",
     "output_type": "stream",
     "text": [
      "                    precision    recall  f1-score   support\n",
      "\n",
      "   Black Sea Sprat       0.86      0.97      0.91       153\n",
      "   Gilt-Head Bream       0.97      0.78      0.87       140\n",
      "   Hourse Mackerel       0.70      0.99      0.82       166\n",
      "        Red Mullet       0.93      0.99      0.96       143\n",
      "     Red Sea Bream       0.93      0.94      0.94       141\n",
      "          Sea Bass       0.94      0.73      0.82       149\n",
      "            Shrimp       0.78      0.99      0.87       143\n",
      "Striped Red Mullet       0.96      0.65      0.77       153\n",
      "             Trout       0.96      0.78      0.86       162\n",
      "\n",
      "          accuracy                           0.87      1350\n",
      "         macro avg       0.89      0.87      0.87      1350\n",
      "      weighted avg       0.89      0.87      0.87      1350\n",
      "\n",
      "0.8688888888888889\n"
     ]
    },
    {
     "data": {
      "text/plain": "array([[0.96732026, 0.        , 0.02614379, 0.        , 0.        ,\n        0.00653595, 0.        , 0.        , 0.        ],\n       [0.        , 0.77857143, 0.1       , 0.        , 0.05      ,\n        0.04285714, 0.        , 0.00714286, 0.02142857],\n       [0.        , 0.        , 0.9939759 , 0.        , 0.0060241 ,\n        0.        , 0.        , 0.        , 0.        ],\n       [0.        , 0.        , 0.        , 0.99300699, 0.        ,\n        0.        , 0.00699301, 0.        , 0.        ],\n       [0.        , 0.        , 0.04255319, 0.        , 0.94326241,\n        0.        , 0.0070922 , 0.0070922 , 0.        ],\n       [0.10067114, 0.01342282, 0.08053691, 0.        , 0.        ,\n        0.73154362, 0.04697987, 0.01342282, 0.01342282],\n       [0.        , 0.        , 0.        , 0.00699301, 0.        ,\n        0.        , 0.99300699, 0.        , 0.        ],\n       [0.05228758, 0.00653595, 0.01960784, 0.06535948, 0.        ,\n        0.        , 0.20915033, 0.64705882, 0.        ],\n       [0.00617284, 0.        , 0.2037037 , 0.        , 0.01234568,\n        0.        , 0.        , 0.        , 0.77777778]])"
     },
     "execution_count": 40,
     "metadata": {},
     "output_type": "execute_result"
    }
   ],
   "source": [
    "from sklearn.metrics import confusion_matrix, classification_report, accuracy_score\n",
    "\n",
    "y_test = test_data.label\n",
    "print(classification_report(y_test, predictions))\n",
    "\n",
    "print(accuracy_score(y_test, predictions))\n",
    "confusion_matrix(y_test, predictions, normalize='true')"
   ]
  },
  {
   "cell_type": "code",
   "execution_count": 41,
   "metadata": {
    "collapsed": false,
    "pycharm": {
     "name": "#%%\n"
    }
   },
   "outputs": [
    {
     "name": "stdout",
     "output_type": "stream",
     "text": [
      "Saved successfully\n"
     ]
    }
   ],
   "source": [
    "from tensorflowjs import converters\n",
    "\n",
    "converters.save_keras_model(model, \"tf-js-model\")\n",
    "\n",
    "print(\"Saved successfully\")"
   ]
  },
  {
   "cell_type": "code",
   "execution_count": 42,
   "outputs": [
    {
     "name": "stdout",
     "output_type": "stream",
     "text": [
      "['fishes\\\\Fish_Dataset\\\\Fish_Dataset\\\\Red Mullet\\\\Red Mullet\\\\00785.png', 'fishes\\\\Fish_Dataset\\\\Fish_Dataset\\\\Red Mullet\\\\Red Mullet\\\\00419.png', 'fishes\\\\Fish_Dataset\\\\Fish_Dataset\\\\Trout\\\\Trout\\\\00695.png', 'fishes\\\\Fish_Dataset\\\\Fish_Dataset\\\\Sea Bass\\\\Sea Bass\\\\00540.png', 'fishes\\\\Fish_Dataset\\\\Fish_Dataset\\\\Black Sea Sprat\\\\Black Sea Sprat\\\\00862.png', 'fishes\\\\Fish_Dataset\\\\Fish_Dataset\\\\Gilt-Head Bream\\\\Gilt-Head Bream\\\\00176.png']\n",
      "['Red Mullet', 'Red Mullet', 'Trout', 'Trout', 'Black Sea Sprat', 'Gilt-Head Bream']\n"
     ]
    }
   ],
   "source": [
    "print(test_images.filenames[:6])\n",
    "print(predictions[:6])"
   ],
   "metadata": {
    "collapsed": false,
    "pycharm": {
     "name": "#%%\n"
    }
   }
  }
 ],
 "metadata": {
  "kernelspec": {
   "display_name": "Python 3",
   "language": "python",
   "name": "python3"
  },
  "language_info": {
   "codemirror_mode": {
    "name": "ipython",
    "version": 2
   },
   "file_extension": ".py",
   "mimetype": "text/x-python",
   "name": "python",
   "nbconvert_exporter": "python",
   "pygments_lexer": "ipython2",
   "version": "2.7.6"
  }
 },
 "nbformat": 4,
 "nbformat_minor": 0
}